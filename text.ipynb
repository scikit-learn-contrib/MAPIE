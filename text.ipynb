{
 "cells": [
  {
   "cell_type": "code",
   "execution_count": 2,
   "metadata": {},
   "outputs": [],
   "source": [
    "from mapie.conformity_scores.sets.topk import TopKConformityScore"
   ]
  },
  {
   "cell_type": "code",
   "execution_count": 6,
   "metadata": {},
   "outputs": [
    {
     "ename": "TypeError",
     "evalue": "TopKConformityScore.get_conformity_scores() missing 2 required positional arguments: 'y' and 'y_pred'",
     "output_type": "error",
     "traceback": [
      "\u001b[1;31m---------------------------------------------------------------------------\u001b[0m",
      "\u001b[1;31mTypeError\u001b[0m                                 Traceback (most recent call last)",
      "Cell \u001b[1;32mIn[6], line 2\u001b[0m\n\u001b[0;32m      1\u001b[0m topK \u001b[38;5;241m=\u001b[39m TopKConformityScore()\n\u001b[1;32m----> 2\u001b[0m \u001b[43mtopK\u001b[49m\u001b[38;5;241;43m.\u001b[39;49m\u001b[43mget_conformity_scores\u001b[49m\u001b[43m(\u001b[49m\u001b[43m)\u001b[49m\n",
      "\u001b[1;31mTypeError\u001b[0m: TopKConformityScore.get_conformity_scores() missing 2 required positional arguments: 'y' and 'y_pred'"
     ]
    }
   ],
   "source": [
    "topK = TopKConformityScore()\n",
    "topK.get_conformity_scores()"
   ]
  }
 ],
 "metadata": {
  "kernelspec": {
   "display_name": "detectron2",
   "language": "python",
   "name": "python3"
  },
  "language_info": {
   "codemirror_mode": {
    "name": "ipython",
    "version": 3
   },
   "file_extension": ".py",
   "mimetype": "text/x-python",
   "name": "python",
   "nbconvert_exporter": "python",
   "pygments_lexer": "ipython3",
   "version": "3.12.4"
  }
 },
 "nbformat": 4,
 "nbformat_minor": 2
}
