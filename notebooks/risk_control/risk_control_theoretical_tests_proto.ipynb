{
 "cells": [
  {
   "cell_type": "markdown",
   "id": "2ae91ff6-9706-41f1-bfdb-c39f5f2bfb9d",
   "metadata": {
    "id": "2ae91ff6-9706-41f1-bfdb-c39f5f2bfb9d"
   },
   "source": [
    "# Binary classification risk control - Theoretical tests prototype"
   ]
  },
  {
   "cell_type": "code",
   "id": "1c564c4f-1e63-4c2f-bdd5-d84029c1473a",
   "metadata": {
    "ExecuteTime": {
     "end_time": "2025-08-28T15:14:24.815466Z",
     "start_time": "2025-08-28T15:14:21.457372Z"
    }
   },
   "source": [
    "%reload_ext autoreload\n",
    "%autoreload 2"
   ],
   "outputs": [],
   "execution_count": 20
  },
  {
   "cell_type": "code",
   "id": "f1c2e64a",
   "metadata": {
    "id": "f1c2e64a",
    "ExecuteTime": {
     "end_time": "2025-08-28T15:14:25.924379Z",
     "start_time": "2025-08-28T15:14:24.915913Z"
    }
   },
   "source": [
    "from sklearn.datasets import make_classification\n",
    "import numpy as np\n",
    "from mapie.risk_control import precision, accuracy, recall\n",
    "from mapie.risk_control_draft import BinaryClassificationController\n",
    "from itertools import product"
   ],
   "outputs": [],
   "execution_count": 21
  },
  {
   "cell_type": "code",
   "id": "6c0b5e81-81f1-4688-a4d7-57c6adba44b4",
   "metadata": {
    "ExecuteTime": {
     "end_time": "2025-08-28T15:14:26.859600Z",
     "start_time": "2025-08-28T15:14:26.069276Z"
    }
   },
   "source": [
    "# Using sklearn.dummy.DummyClassifier would be clearer\n",
    "class RandomClassifier:\n",
    "    def __init__(self, seed=42, threshold=0.5):\n",
    "        self.seed = seed\n",
    "        self.threshold = threshold\n",
    "\n",
    "    def _get_prob(self, x):\n",
    "        local_seed = hash((x, self.seed)) % (2**32)\n",
    "        rng = np.random.RandomState(local_seed)\n",
    "        return np.round(rng.rand(), 2)\n",
    "\n",
    "    def predict_proba(self, X):\n",
    "        probs = np.array([self._get_prob(x) for x in X])\n",
    "        return np.vstack([1 - probs, probs]).T\n",
    "\n",
    "    def predict(self, X):\n",
    "        probs = self.predict_proba(X)[:, 1]\n",
    "        return (probs >= self.threshold).astype(int)"
   ],
   "outputs": [],
   "execution_count": 22
  },
  {
   "cell_type": "code",
   "id": "03383363-b86d-4593-adf4-80215b6f1dcf",
   "metadata": {
    "colab": {
     "base_uri": "https://localhost:8080/",
     "height": 376
    },
    "id": "03383363-b86d-4593-adf4-80215b6f1dcf",
    "outputId": "b15146cf-518e-4a93-8128-6c1865a08b01",
    "ExecuteTime": {
     "end_time": "2025-08-28T15:42:03.789703Z",
     "start_time": "2025-08-28T15:41:28.346628Z"
    }
   },
   "source": [
    "N = [100, 5]  # size of the calibration set\n",
    "risk = [\n",
    "    {\"name\": \"precision\", \"risk\": precision},\n",
    "    {\"name\": \"recall\", \"risk\": recall},\n",
    "    {\"name\": \"accuracy\", \"risk\": accuracy},\n",
    "]\n",
    "predict_params = [np.linspace(0, 0.99, 100), np.array([0.5])]\n",
    "target_level = [0.1, 0.9]\n",
    "confidence_level = [0.8, 0.2]\n",
    "\n",
    "n_repeats = 100\n",
    "invalid_experiments = []\n",
    "\n",
    "for i, combination in enumerate(product(N, risk, predict_params, target_level, confidence_level)):\n",
    "    N, risk, predict_params, target_level, confidence_level = combination\n",
    "\n",
    "    clf = RandomClassifier()\n",
    "    nb_errors = 0  # number of iterations where the risk is not controlled (i.e., not all the valid thresholds found by LTT are actually valid)\n",
    "\n",
    "    for _ in range(n_repeats):\n",
    "\n",
    "        X_calibrate, y_calibrate = make_classification(\n",
    "            n_samples=N,\n",
    "            n_features=1,\n",
    "            n_informative=1,\n",
    "            n_redundant=0,\n",
    "            n_repeated=0,\n",
    "            n_classes=2,\n",
    "            n_clusters_per_class=1,\n",
    "            weights=[0.5, 0.5],\n",
    "            flip_y=0,\n",
    "            random_state=None\n",
    "        )\n",
    "        X_calibrate = X_calibrate.squeeze()\n",
    "\n",
    "        controller = BinaryClassificationController(\n",
    "            predict_function=clf.predict_proba,\n",
    "            risk=risk[\"risk\"],\n",
    "            target_level=target_level,\n",
    "            confidence_level=confidence_level,\n",
    "        )\n",
    "        controller._thresholds = predict_params\n",
    "        controller.calibrate(X_calibrate, y_calibrate)\n",
    "        valid_parameters = controller.valid_thresholds\n",
    "\n",
    "        # The following works because the data is balanced\n",
    "        if risk[\"risk\"] == precision or risk[\"risk\"] == accuracy:\n",
    "            if target_level > 0.5 and len(valid_parameters) >= 1:\n",
    "                nb_errors += 1\n",
    "        elif risk[\"risk\"] == recall:\n",
    "            if any(x < 0 or x > np.round(1-target_level, 2) for x in valid_parameters) and len(valid_parameters) >= 1:\n",
    "                nb_errors += 1\n",
    "\n",
    "    print(f\"Proportion of times the risk is not controlled: {nb_errors/n_repeats}\")\n",
    "    print(f\"Risk level: {1-confidence_level}\")\n",
    "\n",
    "    if nb_errors/n_repeats <= 1 - confidence_level:\n",
    "        #print(\"Valid experiment\")\n",
    "        pass\n",
    "    else:\n",
    "        print(\"Unvalid experiment\")\n",
    "        print(f\"{N=} {risk['name']=} {predict_params=} {target_level=} {confidence_level=}\")\n",
    "        invalid_experiments.append(i)"
   ],
   "outputs": [
    {
     "name": "stdout",
     "output_type": "stream",
     "text": [
      "Proportion of times the risk is not controlled: 0.0\n",
      "Risk level: 0.19999999999999996\n",
      "Proportion of times the risk is not controlled: 0.0\n",
      "Risk level: 0.8\n",
      "Proportion of times the risk is not controlled: 1.0\n",
      "Risk level: 0.19999999999999996\n",
      "Unvalid experiment\n",
      "N=100 risk['name']='precision' predict_params=array([0.  , 0.01, 0.02, 0.03, 0.04, 0.05, 0.06, 0.07, 0.08, 0.09, 0.1 ,\n",
      "       0.11, 0.12, 0.13, 0.14, 0.15, 0.16, 0.17, 0.18, 0.19, 0.2 , 0.21,\n",
      "       0.22, 0.23, 0.24, 0.25, 0.26, 0.27, 0.28, 0.29, 0.3 , 0.31, 0.32,\n",
      "       0.33, 0.34, 0.35, 0.36, 0.37, 0.38, 0.39, 0.4 , 0.41, 0.42, 0.43,\n",
      "       0.44, 0.45, 0.46, 0.47, 0.48, 0.49, 0.5 , 0.51, 0.52, 0.53, 0.54,\n",
      "       0.55, 0.56, 0.57, 0.58, 0.59, 0.6 , 0.61, 0.62, 0.63, 0.64, 0.65,\n",
      "       0.66, 0.67, 0.68, 0.69, 0.7 , 0.71, 0.72, 0.73, 0.74, 0.75, 0.76,\n",
      "       0.77, 0.78, 0.79, 0.8 , 0.81, 0.82, 0.83, 0.84, 0.85, 0.86, 0.87,\n",
      "       0.88, 0.89, 0.9 , 0.91, 0.92, 0.93, 0.94, 0.95, 0.96, 0.97, 0.98,\n",
      "       0.99]) target_level=0.9 confidence_level=0.8\n",
      "Proportion of times the risk is not controlled: 1.0\n",
      "Risk level: 0.8\n",
      "Unvalid experiment\n",
      "N=100 risk['name']='precision' predict_params=array([0.  , 0.01, 0.02, 0.03, 0.04, 0.05, 0.06, 0.07, 0.08, 0.09, 0.1 ,\n",
      "       0.11, 0.12, 0.13, 0.14, 0.15, 0.16, 0.17, 0.18, 0.19, 0.2 , 0.21,\n",
      "       0.22, 0.23, 0.24, 0.25, 0.26, 0.27, 0.28, 0.29, 0.3 , 0.31, 0.32,\n",
      "       0.33, 0.34, 0.35, 0.36, 0.37, 0.38, 0.39, 0.4 , 0.41, 0.42, 0.43,\n",
      "       0.44, 0.45, 0.46, 0.47, 0.48, 0.49, 0.5 , 0.51, 0.52, 0.53, 0.54,\n",
      "       0.55, 0.56, 0.57, 0.58, 0.59, 0.6 , 0.61, 0.62, 0.63, 0.64, 0.65,\n",
      "       0.66, 0.67, 0.68, 0.69, 0.7 , 0.71, 0.72, 0.73, 0.74, 0.75, 0.76,\n",
      "       0.77, 0.78, 0.79, 0.8 , 0.81, 0.82, 0.83, 0.84, 0.85, 0.86, 0.87,\n",
      "       0.88, 0.89, 0.9 , 0.91, 0.92, 0.93, 0.94, 0.95, 0.96, 0.97, 0.98,\n",
      "       0.99]) target_level=0.9 confidence_level=0.2\n",
      "Proportion of times the risk is not controlled: 0.0\n",
      "Risk level: 0.19999999999999996\n",
      "Proportion of times the risk is not controlled: 0.0\n",
      "Risk level: 0.8\n",
      "Proportion of times the risk is not controlled: 1.0\n",
      "Risk level: 0.19999999999999996\n",
      "Unvalid experiment\n",
      "N=100 risk['name']='precision' predict_params=array([0.5]) target_level=0.9 confidence_level=0.8\n",
      "Proportion of times the risk is not controlled: 1.0\n",
      "Risk level: 0.8\n",
      "Unvalid experiment\n",
      "N=100 risk['name']='precision' predict_params=array([0.5]) target_level=0.9 confidence_level=0.2\n",
      "Proportion of times the risk is not controlled: 0.0\n",
      "Risk level: 0.19999999999999996\n",
      "Proportion of times the risk is not controlled: 0.0\n",
      "Risk level: 0.8\n",
      "Proportion of times the risk is not controlled: 1.0\n",
      "Risk level: 0.19999999999999996\n",
      "Unvalid experiment\n",
      "N=100 risk['name']='recall' predict_params=array([0.  , 0.01, 0.02, 0.03, 0.04, 0.05, 0.06, 0.07, 0.08, 0.09, 0.1 ,\n",
      "       0.11, 0.12, 0.13, 0.14, 0.15, 0.16, 0.17, 0.18, 0.19, 0.2 , 0.21,\n",
      "       0.22, 0.23, 0.24, 0.25, 0.26, 0.27, 0.28, 0.29, 0.3 , 0.31, 0.32,\n",
      "       0.33, 0.34, 0.35, 0.36, 0.37, 0.38, 0.39, 0.4 , 0.41, 0.42, 0.43,\n",
      "       0.44, 0.45, 0.46, 0.47, 0.48, 0.49, 0.5 , 0.51, 0.52, 0.53, 0.54,\n",
      "       0.55, 0.56, 0.57, 0.58, 0.59, 0.6 , 0.61, 0.62, 0.63, 0.64, 0.65,\n",
      "       0.66, 0.67, 0.68, 0.69, 0.7 , 0.71, 0.72, 0.73, 0.74, 0.75, 0.76,\n",
      "       0.77, 0.78, 0.79, 0.8 , 0.81, 0.82, 0.83, 0.84, 0.85, 0.86, 0.87,\n",
      "       0.88, 0.89, 0.9 , 0.91, 0.92, 0.93, 0.94, 0.95, 0.96, 0.97, 0.98,\n",
      "       0.99]) target_level=0.9 confidence_level=0.8\n",
      "Proportion of times the risk is not controlled: 1.0\n",
      "Risk level: 0.8\n",
      "Unvalid experiment\n",
      "N=100 risk['name']='recall' predict_params=array([0.  , 0.01, 0.02, 0.03, 0.04, 0.05, 0.06, 0.07, 0.08, 0.09, 0.1 ,\n",
      "       0.11, 0.12, 0.13, 0.14, 0.15, 0.16, 0.17, 0.18, 0.19, 0.2 , 0.21,\n",
      "       0.22, 0.23, 0.24, 0.25, 0.26, 0.27, 0.28, 0.29, 0.3 , 0.31, 0.32,\n",
      "       0.33, 0.34, 0.35, 0.36, 0.37, 0.38, 0.39, 0.4 , 0.41, 0.42, 0.43,\n",
      "       0.44, 0.45, 0.46, 0.47, 0.48, 0.49, 0.5 , 0.51, 0.52, 0.53, 0.54,\n",
      "       0.55, 0.56, 0.57, 0.58, 0.59, 0.6 , 0.61, 0.62, 0.63, 0.64, 0.65,\n",
      "       0.66, 0.67, 0.68, 0.69, 0.7 , 0.71, 0.72, 0.73, 0.74, 0.75, 0.76,\n",
      "       0.77, 0.78, 0.79, 0.8 , 0.81, 0.82, 0.83, 0.84, 0.85, 0.86, 0.87,\n",
      "       0.88, 0.89, 0.9 , 0.91, 0.92, 0.93, 0.94, 0.95, 0.96, 0.97, 0.98,\n",
      "       0.99]) target_level=0.9 confidence_level=0.2\n",
      "Proportion of times the risk is not controlled: 0.0\n",
      "Risk level: 0.19999999999999996\n",
      "Proportion of times the risk is not controlled: 0.0\n",
      "Risk level: 0.8\n",
      "Proportion of times the risk is not controlled: 1.0\n",
      "Risk level: 0.19999999999999996\n",
      "Unvalid experiment\n",
      "N=100 risk['name']='recall' predict_params=array([0.5]) target_level=0.9 confidence_level=0.8\n",
      "Proportion of times the risk is not controlled: 1.0\n",
      "Risk level: 0.8\n",
      "Unvalid experiment\n",
      "N=100 risk['name']='recall' predict_params=array([0.5]) target_level=0.9 confidence_level=0.2\n",
      "Proportion of times the risk is not controlled: 0.0\n",
      "Risk level: 0.19999999999999996\n",
      "Proportion of times the risk is not controlled: 0.0\n",
      "Risk level: 0.8\n",
      "Proportion of times the risk is not controlled: 1.0\n",
      "Risk level: 0.19999999999999996\n",
      "Unvalid experiment\n",
      "N=100 risk['name']='accuracy' predict_params=array([0.  , 0.01, 0.02, 0.03, 0.04, 0.05, 0.06, 0.07, 0.08, 0.09, 0.1 ,\n",
      "       0.11, 0.12, 0.13, 0.14, 0.15, 0.16, 0.17, 0.18, 0.19, 0.2 , 0.21,\n",
      "       0.22, 0.23, 0.24, 0.25, 0.26, 0.27, 0.28, 0.29, 0.3 , 0.31, 0.32,\n",
      "       0.33, 0.34, 0.35, 0.36, 0.37, 0.38, 0.39, 0.4 , 0.41, 0.42, 0.43,\n",
      "       0.44, 0.45, 0.46, 0.47, 0.48, 0.49, 0.5 , 0.51, 0.52, 0.53, 0.54,\n",
      "       0.55, 0.56, 0.57, 0.58, 0.59, 0.6 , 0.61, 0.62, 0.63, 0.64, 0.65,\n",
      "       0.66, 0.67, 0.68, 0.69, 0.7 , 0.71, 0.72, 0.73, 0.74, 0.75, 0.76,\n",
      "       0.77, 0.78, 0.79, 0.8 , 0.81, 0.82, 0.83, 0.84, 0.85, 0.86, 0.87,\n",
      "       0.88, 0.89, 0.9 , 0.91, 0.92, 0.93, 0.94, 0.95, 0.96, 0.97, 0.98,\n",
      "       0.99]) target_level=0.9 confidence_level=0.8\n",
      "Proportion of times the risk is not controlled: 1.0\n",
      "Risk level: 0.8\n",
      "Unvalid experiment\n",
      "N=100 risk['name']='accuracy' predict_params=array([0.  , 0.01, 0.02, 0.03, 0.04, 0.05, 0.06, 0.07, 0.08, 0.09, 0.1 ,\n",
      "       0.11, 0.12, 0.13, 0.14, 0.15, 0.16, 0.17, 0.18, 0.19, 0.2 , 0.21,\n",
      "       0.22, 0.23, 0.24, 0.25, 0.26, 0.27, 0.28, 0.29, 0.3 , 0.31, 0.32,\n",
      "       0.33, 0.34, 0.35, 0.36, 0.37, 0.38, 0.39, 0.4 , 0.41, 0.42, 0.43,\n",
      "       0.44, 0.45, 0.46, 0.47, 0.48, 0.49, 0.5 , 0.51, 0.52, 0.53, 0.54,\n",
      "       0.55, 0.56, 0.57, 0.58, 0.59, 0.6 , 0.61, 0.62, 0.63, 0.64, 0.65,\n",
      "       0.66, 0.67, 0.68, 0.69, 0.7 , 0.71, 0.72, 0.73, 0.74, 0.75, 0.76,\n",
      "       0.77, 0.78, 0.79, 0.8 , 0.81, 0.82, 0.83, 0.84, 0.85, 0.86, 0.87,\n",
      "       0.88, 0.89, 0.9 , 0.91, 0.92, 0.93, 0.94, 0.95, 0.96, 0.97, 0.98,\n",
      "       0.99]) target_level=0.9 confidence_level=0.2\n",
      "Proportion of times the risk is not controlled: 0.0\n",
      "Risk level: 0.19999999999999996\n",
      "Proportion of times the risk is not controlled: 0.0\n",
      "Risk level: 0.8\n",
      "Proportion of times the risk is not controlled: 1.0\n",
      "Risk level: 0.19999999999999996\n",
      "Unvalid experiment\n",
      "N=100 risk['name']='accuracy' predict_params=array([0.5]) target_level=0.9 confidence_level=0.8\n",
      "Proportion of times the risk is not controlled: 1.0\n",
      "Risk level: 0.8\n",
      "Unvalid experiment\n",
      "N=100 risk['name']='accuracy' predict_params=array([0.5]) target_level=0.9 confidence_level=0.2\n",
      "Proportion of times the risk is not controlled: 0.0\n",
      "Risk level: 0.19999999999999996\n",
      "Proportion of times the risk is not controlled: 0.0\n",
      "Risk level: 0.8\n",
      "Proportion of times the risk is not controlled: 0.0\n",
      "Risk level: 0.19999999999999996\n",
      "Proportion of times the risk is not controlled: 0.0\n",
      "Risk level: 0.8\n",
      "Proportion of times the risk is not controlled: 0.0\n",
      "Risk level: 0.19999999999999996\n",
      "Proportion of times the risk is not controlled: 0.0\n",
      "Risk level: 0.8\n",
      "Proportion of times the risk is not controlled: 0.46\n",
      "Risk level: 0.19999999999999996\n",
      "Unvalid experiment\n",
      "N=5 risk['name']='precision' predict_params=array([0.5]) target_level=0.9 confidence_level=0.8\n",
      "Proportion of times the risk is not controlled: 0.76\n",
      "Risk level: 0.8\n",
      "Proportion of times the risk is not controlled: 0.0\n",
      "Risk level: 0.19999999999999996\n",
      "Proportion of times the risk is not controlled: 0.0\n",
      "Risk level: 0.8\n",
      "Proportion of times the risk is not controlled: 0.0\n",
      "Risk level: 0.19999999999999996\n",
      "Proportion of times the risk is not controlled: 0.0\n",
      "Risk level: 0.8\n",
      "Proportion of times the risk is not controlled: 0.0\n",
      "Risk level: 0.19999999999999996\n",
      "Proportion of times the risk is not controlled: 0.0\n",
      "Risk level: 0.8\n",
      "Proportion of times the risk is not controlled: 0.8\n",
      "Risk level: 0.19999999999999996\n",
      "Unvalid experiment\n",
      "N=5 risk['name']='recall' predict_params=array([0.5]) target_level=0.9 confidence_level=0.8\n",
      "Proportion of times the risk is not controlled: 0.75\n",
      "Risk level: 0.8\n",
      "Proportion of times the risk is not controlled: 0.0\n",
      "Risk level: 0.19999999999999996\n",
      "Proportion of times the risk is not controlled: 0.0\n",
      "Risk level: 0.8\n",
      "Proportion of times the risk is not controlled: 0.53\n",
      "Risk level: 0.19999999999999996\n",
      "Unvalid experiment\n",
      "N=5 risk['name']='accuracy' predict_params=array([0.  , 0.01, 0.02, 0.03, 0.04, 0.05, 0.06, 0.07, 0.08, 0.09, 0.1 ,\n",
      "       0.11, 0.12, 0.13, 0.14, 0.15, 0.16, 0.17, 0.18, 0.19, 0.2 , 0.21,\n",
      "       0.22, 0.23, 0.24, 0.25, 0.26, 0.27, 0.28, 0.29, 0.3 , 0.31, 0.32,\n",
      "       0.33, 0.34, 0.35, 0.36, 0.37, 0.38, 0.39, 0.4 , 0.41, 0.42, 0.43,\n",
      "       0.44, 0.45, 0.46, 0.47, 0.48, 0.49, 0.5 , 0.51, 0.52, 0.53, 0.54,\n",
      "       0.55, 0.56, 0.57, 0.58, 0.59, 0.6 , 0.61, 0.62, 0.63, 0.64, 0.65,\n",
      "       0.66, 0.67, 0.68, 0.69, 0.7 , 0.71, 0.72, 0.73, 0.74, 0.75, 0.76,\n",
      "       0.77, 0.78, 0.79, 0.8 , 0.81, 0.82, 0.83, 0.84, 0.85, 0.86, 0.87,\n",
      "       0.88, 0.89, 0.9 , 0.91, 0.92, 0.93, 0.94, 0.95, 0.96, 0.97, 0.98,\n",
      "       0.99]) target_level=0.9 confidence_level=0.8\n",
      "Proportion of times the risk is not controlled: 0.46\n",
      "Risk level: 0.8\n",
      "Proportion of times the risk is not controlled: 0.0\n",
      "Risk level: 0.19999999999999996\n",
      "Proportion of times the risk is not controlled: 0.0\n",
      "Risk level: 0.8\n",
      "Proportion of times the risk is not controlled: 0.81\n",
      "Risk level: 0.19999999999999996\n",
      "Unvalid experiment\n",
      "N=5 risk['name']='accuracy' predict_params=array([0.5]) target_level=0.9 confidence_level=0.8\n",
      "Proportion of times the risk is not controlled: 0.99\n",
      "Risk level: 0.8\n",
      "Unvalid experiment\n",
      "N=5 risk['name']='accuracy' predict_params=array([0.5]) target_level=0.9 confidence_level=0.2\n"
     ]
    }
   ],
   "execution_count": 38
  },
  {
   "cell_type": "code",
   "id": "104c7232-c8b1-432e-94dd-3f65e730483f",
   "metadata": {
    "ExecuteTime": {
     "end_time": "2025-08-28T15:42:04.124169Z",
     "start_time": "2025-08-28T15:42:03.820976Z"
    }
   },
   "source": "print(invalid_experiments)",
   "outputs": [
    {
     "name": "stdout",
     "output_type": "stream",
     "text": [
      "[2, 3, 6, 7, 10, 11, 14, 15, 18, 19, 22, 23, 30, 38, 42, 46, 47]\n"
     ]
    }
   ],
   "execution_count": 39
  },
  {
   "metadata": {
    "ExecuteTime": {
     "end_time": "2025-08-28T15:40:33.298549Z",
     "start_time": "2025-08-28T15:40:32.942139Z"
    }
   },
   "cell_type": "code",
   "source": "[2, 3, 6, 7, 10, 11, 14, 15, 18, 19, 22, 23, 30, 38, 42, 46, 47]",
   "id": "64a8c25a0488d9dd",
   "outputs": [
    {
     "data": {
      "text/plain": [
       "[2, 3, 6, 7, 10, 11, 14, 15, 18, 19, 22, 23, 30, 38, 42, 46, 47]"
      ]
     },
     "execution_count": 35,
     "metadata": {},
     "output_type": "execute_result"
    }
   ],
   "execution_count": 35
  },
  {
   "metadata": {
    "ExecuteTime": {
     "end_time": "2025-08-28T16:08:52.638117Z",
     "start_time": "2025-08-28T16:08:51.776497Z"
    }
   },
   "cell_type": "code",
   "source": "print(i)",
   "id": "7d45e8b38f509cba",
   "outputs": [
    {
     "name": "stdout",
     "output_type": "stream",
     "text": [
      "47\n"
     ]
    }
   ],
   "execution_count": 40
  },
  {
   "metadata": {
    "ExecuteTime": {
     "end_time": "2025-08-28T16:09:05.979621Z",
     "start_time": "2025-08-28T16:09:05.600091Z"
    }
   },
   "cell_type": "code",
   "source": "print(len(invalid_experiments))",
   "id": "68ee725d094bdc8b",
   "outputs": [
    {
     "name": "stdout",
     "output_type": "stream",
     "text": [
      "17\n"
     ]
    }
   ],
   "execution_count": 41
  },
  {
   "metadata": {},
   "cell_type": "code",
   "outputs": [],
   "execution_count": null,
   "source": "",
   "id": "60c8d5117a5b6030"
  }
 ],
 "metadata": {
  "colab": {
   "provenance": []
  },
  "kernelspec": {
   "display_name": "Python 3 (ipykernel)",
   "language": "python",
   "name": "python3"
  },
  "language_info": {
   "codemirror_mode": {
    "name": "ipython",
    "version": 3
   },
   "file_extension": ".py",
   "mimetype": "text/x-python",
   "name": "python",
   "nbconvert_exporter": "python",
   "pygments_lexer": "ipython3",
   "version": "3.10.17"
  }
 },
 "nbformat": 4,
 "nbformat_minor": 5
}
