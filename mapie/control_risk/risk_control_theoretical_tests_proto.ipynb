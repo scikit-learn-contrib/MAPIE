{
 "cells": [
  {
   "cell_type": "markdown",
   "id": "2ae91ff6-9706-41f1-bfdb-c39f5f2bfb9d",
   "metadata": {
    "id": "2ae91ff6-9706-41f1-bfdb-c39f5f2bfb9d"
   },
   "source": [
    "# Binary classification risk control - Theoretical tests prototype"
   ]
  },
  {
   "cell_type": "code",
   "execution_count": 1,
   "id": "1c564c4f-1e63-4c2f-bdd5-d84029c1473a",
   "metadata": {},
   "outputs": [],
   "source": [
    "%reload_ext autoreload\n",
    "%autoreload 2"
   ]
  },
  {
   "cell_type": "code",
   "execution_count": 1,
   "id": "f1c2e64a",
   "metadata": {
    "id": "f1c2e64a"
   },
   "outputs": [],
   "source": [
    "import numpy as np\n",
    "import itertools\n",
    "from matplotlib import pyplot as plt\n",
    "from collections import Counter\n",
    "\n",
    "from mapie.risk_control_draft import BinaryClassificationController"
   ]
  },
  {
   "cell_type": "code",
   "execution_count": 2,
   "id": "6c0b5e81-81f1-4688-a4d7-57c6adba44b4",
   "metadata": {},
   "outputs": [],
   "source": [
    "class RandomClassifier:\n",
    "    def __init__(self, seed=42, threshold=0.5):\n",
    "        self.seed = seed\n",
    "        self.threshold = threshold\n",
    "\n",
    "    def _get_prob(self, x):\n",
    "        local_seed = hash((x, self.seed)) % (2**32)\n",
    "        rng = np.random.RandomState(local_seed)\n",
    "        return np.round(rng.rand(), 2)\n",
    "\n",
    "    def predict_proba(self, X):\n",
    "        probs = np.array([self._get_prob(x) for x in X])\n",
    "        return np.vstack([1 - probs, probs]).T\n",
    "\n",
    "    def predict(self, X):\n",
    "        probs = self.predict_proba(X)[:, 1]\n",
    "        return (probs >= self.threshold).astype(int)"
   ]
  },
  {
   "cell_type": "code",
   "execution_count": 3,
   "id": "8da2839a-3f14-4054-acf1-c60b1d02b7d0",
   "metadata": {
    "id": "8da2839a-3f14-4054-acf1-c60b1d02b7d0"
   },
   "outputs": [],
   "source": [
    "N = 100  # size of the calibration set\n",
    "p = 0.5  # proportion of positives in the calibration set\n",
    "metric = \"precision\"\n",
    "target_level = 0.8\n",
    "predict_params = np.linspace(0, 0.99, 100)\n",
    "confidence_level = 0.7\n",
    "\n",
    "n_repeats = 10000"
   ]
  },
  {
   "cell_type": "code",
   "execution_count": 4,
   "id": "03383363-b86d-4593-adf4-80215b6f1dcf",
   "metadata": {
    "colab": {
     "base_uri": "https://localhost:8080/",
     "height": 376
    },
    "id": "03383363-b86d-4593-adf4-80215b6f1dcf",
    "outputId": "b15146cf-518e-4a93-8128-6c1865a08b01"
   },
   "outputs": [
    {
     "name": "stderr",
     "output_type": "stream",
     "text": [
      "/Users/faustinpulveric/.pyenv/versions/3.10.17/envs/mapie_dev/lib/python3.10/site-packages/mapie/risk_control_draft.py:117: UserWarning: No valid thresholds found\n",
      "  warnings.warn(\"No valid thresholds found\", UserWarning)\n"
     ]
    },
    {
     "ename": "NameError",
     "evalue": "name 'all_valid_parameters' is not defined",
     "output_type": "error",
     "traceback": [
      "\u001b[0;31m---------------------------------------------------------------------------\u001b[0m",
      "\u001b[0;31mNameError\u001b[0m                                 Traceback (most recent call last)",
      "Cell \u001b[0;32mIn[4], line 26\u001b[0m\n\u001b[1;32m     23\u001b[0m     controller\u001b[38;5;241m.\u001b[39mcalibrate(X_calibrate, y_calibrate)\n\u001b[1;32m     25\u001b[0m     valid_parameters \u001b[38;5;241m=\u001b[39m controller\u001b[38;5;241m.\u001b[39mvalid_thresholds\n\u001b[0;32m---> 26\u001b[0m     \u001b[43mall_valid_parameters\u001b[49m\u001b[38;5;241m.\u001b[39mappend(valid_parameters)\n\u001b[1;32m     28\u001b[0m all_valid_parameters \u001b[38;5;241m=\u001b[39m np\u001b[38;5;241m.\u001b[39mconcatenate([x \u001b[38;5;28;01mfor\u001b[39;00m x \u001b[38;5;129;01min\u001b[39;00m all_valid_parameters \u001b[38;5;28;01mif\u001b[39;00m x\u001b[38;5;241m.\u001b[39msize \u001b[38;5;241m>\u001b[39m \u001b[38;5;241m0\u001b[39m]) \u001b[38;5;28;01mif\u001b[39;00m \u001b[38;5;28many\u001b[39m(x\u001b[38;5;241m.\u001b[39msize \u001b[38;5;241m>\u001b[39m \u001b[38;5;241m0\u001b[39m \u001b[38;5;28;01mfor\u001b[39;00m x \u001b[38;5;129;01min\u001b[39;00m all_valid_parameters) \u001b[38;5;28;01melse\u001b[39;00m np\u001b[38;5;241m.\u001b[39marray([])\n\u001b[1;32m     30\u001b[0m nb_actual_valid \u001b[38;5;241m=\u001b[39m \u001b[38;5;28msum\u001b[39m(\u001b[38;5;241m1\u001b[39m \u001b[38;5;28;01mfor\u001b[39;00m x \u001b[38;5;129;01min\u001b[39;00m all_valid_parameters \u001b[38;5;28;01mif\u001b[39;00m theoretical_value \u001b[38;5;241m>\u001b[39m\u001b[38;5;241m=\u001b[39m target_level)\n",
      "\u001b[0;31mNameError\u001b[0m: name 'all_valid_parameters' is not defined"
     ]
    }
   ],
   "source": [
    "clf = RandomClassifier()\n",
    "\n",
    "if metric == \"precision\":\n",
    "    if target_level <= p:\n",
    "        actual_valid_parameters = predict_params\n",
    "    else:\n",
    "        actual_valid_parameters = []\n",
    "elif metric == \"recall\":\n",
    "    actual_valid_parameters = predict_params[predict_params <= np.round(1-target_level, 2)]\n",
    "\n",
    "for _ in range(n_repeats):\n",
    "\n",
    "    X_calibrate = list(range(1, N+1))\n",
    "    y_calibrate = [1] * int(p*N) + [0] * (N - int(p*N))\n",
    "    np.random.shuffle(y_calibrate)\n",
    "\n",
    "    controller = BinaryClassificationController(\n",
    "        fitted_binary_classifier=clf,\n",
    "        metric=metric,\n",
    "        target_level=target_level,\n",
    "        confidence_level=confidence_level,\n",
    "    )\n",
    "    controller.calibrate(X_calibrate, y_calibrate)\n",
    "\n",
    "    valid_parameters = controller.valid_thresholds\n",
    "    all_valid_parameters.append(valid_parameters)\n",
    "\n",
    "all_valid_parameters = np.concatenate([x for x in all_valid_parameters if x.size > 0]) if any(x.size > 0 for x in all_valid_parameters) else np.array([])\n",
    "\n",
    "nb_actual_valid = sum(1 for x in all_valid_parameters if theoretical_value >= target_level)\n",
    "\n",
    "print(f\"Number of valid thresholds according to LTT across all iterations: {len(all_valid_parameters)}\")\n",
    "print(f\"Number of actual valid thresholds across all iterations: {nb_actual_valid}\")\n",
    "\n",
    "counter = Counter(all_valid_parameters)\n",
    "plt.bar(counter.keys(), counter.values(), width=0.008)\n",
    "plt.xlabel('Parameter value')\n",
    "plt.ylabel('Occurrences')\n",
    "plt.title('Occurrences of each parameter value')\n",
    "plt.show()"
   ]
  },
  {
   "cell_type": "code",
   "execution_count": null,
   "id": "1c1f49d5-234a-4a88-b030-b210bb16af6b",
   "metadata": {},
   "outputs": [],
   "source": []
  }
 ],
 "metadata": {
  "colab": {
   "provenance": []
  },
  "kernelspec": {
   "display_name": "Python 3 (ipykernel)",
   "language": "python",
   "name": "python3"
  },
  "language_info": {
   "codemirror_mode": {
    "name": "ipython",
    "version": 3
   },
   "file_extension": ".py",
   "mimetype": "text/x-python",
   "name": "python",
   "nbconvert_exporter": "python",
   "pygments_lexer": "ipython3",
   "version": "3.10.17"
  }
 },
 "nbformat": 4,
 "nbformat_minor": 5
}
