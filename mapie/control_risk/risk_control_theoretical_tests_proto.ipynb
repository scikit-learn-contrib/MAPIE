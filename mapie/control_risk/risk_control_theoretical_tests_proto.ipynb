{
 "cells": [
  {
   "cell_type": "markdown",
   "id": "2ae91ff6-9706-41f1-bfdb-c39f5f2bfb9d",
   "metadata": {
    "id": "2ae91ff6-9706-41f1-bfdb-c39f5f2bfb9d"
   },
   "source": [
    "# Binary classification risk control - Theoretical tests prototype"
   ]
  },
  {
   "cell_type": "code",
   "execution_count": 1,
   "id": "1c564c4f-1e63-4c2f-bdd5-d84029c1473a",
   "metadata": {},
   "outputs": [],
   "source": [
    "%reload_ext autoreload\n",
    "%autoreload 2"
   ]
  },
  {
   "cell_type": "code",
   "execution_count": 8,
   "id": "f1c2e64a",
   "metadata": {
    "id": "f1c2e64a"
   },
   "outputs": [],
   "source": [
    "from sklearn.datasets import make_classification\n",
    "import numpy as np\n",
    "import itertools\n",
    "from matplotlib import pyplot as plt\n",
    "\n",
    "from mapie.risk_control_draft import BinaryClassificationController"
   ]
  },
  {
   "cell_type": "code",
   "execution_count": 9,
   "id": "6c0b5e81-81f1-4688-a4d7-57c6adba44b4",
   "metadata": {},
   "outputs": [],
   "source": [
    "class RandomClassifier:\n",
    "    def __init__(self, seed=42, threshold=0.5):\n",
    "        self.seed = seed\n",
    "        self.threshold = threshold\n",
    "\n",
    "    def _get_prob(self, x):\n",
    "        local_seed = hash((x, self.seed)) % (2**32)\n",
    "        rng = np.random.RandomState(local_seed)\n",
    "        return np.round(rng.rand(), 2)\n",
    "\n",
    "    def predict_proba(self, X):\n",
    "        probs = np.array([self._get_prob(x) for x in X])\n",
    "        return np.vstack([1 - probs, probs]).T\n",
    "\n",
    "    def predict(self, X):\n",
    "        probs = self.predict_proba(X)[:, 1]\n",
    "        return (probs >= self.threshold).astype(int)"
   ]
  },
  {
   "cell_type": "code",
   "execution_count": 10,
   "id": "8da2839a-3f14-4054-acf1-c60b1d02b7d0",
   "metadata": {
    "id": "8da2839a-3f14-4054-acf1-c60b1d02b7d0"
   },
   "outputs": [],
   "source": [
    "N = 100  # size of the calibration set\n",
    "p = 0.5  # proportion of positives in the calibration set\n",
    "metric = \"recall\"\n",
    "target_level = 0.8\n",
    "predict_params = np.linspace(0, 0.99, 100)\n",
    "confidence_level = 0.7\n",
    "\n",
    "n_repeats = 100"
   ]
  },
  {
   "cell_type": "code",
   "execution_count": 11,
   "id": "03383363-b86d-4593-adf4-80215b6f1dcf",
   "metadata": {
    "colab": {
     "base_uri": "https://localhost:8080/",
     "height": 376
    },
    "id": "03383363-b86d-4593-adf4-80215b6f1dcf",
    "outputId": "b15146cf-518e-4a93-8128-6c1865a08b01"
   },
   "outputs": [
    {
     "name": "stdout",
     "output_type": "stream",
     "text": [
      "Mean number of valid thresholds found per iteration: 5.82\n",
      "Proportion of times LTT finds no valid threshold: 0.0\n",
      "Proportion of times the risk is not controlled: 0.0\n",
      "Risk controlled\n"
     ]
    }
   ],
   "source": [
    "clf = RandomClassifier()\n",
    "nb_errors = 0  # number of iterations where the risk is not controlled (i.e., not all the valid thresholds found by LTT are actually valid)\n",
    "no_valid_params = 0  # number of iterations where LTT finds no valid threshold\n",
    "nb_valid_params = 0  # total number of valid thresholds LTT finds over all iterations\n",
    "\n",
    "for _ in range(n_repeats):\n",
    "\n",
    "    X_calibrate, y_calibrate = make_classification(\n",
    "        n_samples=N,\n",
    "        n_features=1,\n",
    "        n_informative=1,\n",
    "        n_redundant=0,\n",
    "        n_repeated=0,\n",
    "        n_classes=2,\n",
    "        n_clusters_per_class=1,\n",
    "        weights=[1 - p, p],\n",
    "        flip_y=0.5,\n",
    "        random_state=None\n",
    "    )\n",
    "    X_calibrate = X_calibrate.squeeze()\n",
    "\n",
    "    controller = BinaryClassificationController(\n",
    "        fitted_binary_classifier=clf,\n",
    "        metric=metric,\n",
    "        target_level=target_level,\n",
    "        confidence_level=confidence_level,\n",
    "    )\n",
    "    controller._thresholds = predict_params\n",
    "    controller.calibrate(X_calibrate, y_calibrate)\n",
    "    valid_parameters = controller.valid_thresholds\n",
    "\n",
    "    nb_valid_params += len(valid_parameters)\n",
    "\n",
    "    if len(valid_parameters) == 0:\n",
    "        no_valid_params += 1\n",
    "\n",
    "    if metric == \"precision\" or metric == \"accuracy\":\n",
    "        if target_level > p and len(valid_parameters) >= 1:\n",
    "            nb_errors += 1\n",
    "    elif metric == \"recall\":\n",
    "        if any(x < 0 or x > np.round(1-target_level, 2) for x in valid_parameters) and len(valid_parameters) >= 1:\n",
    "            nb_errors += 1\n",
    "\n",
    "print(f\"Mean number of valid thresholds found per iteration: {nb_valid_params/n_repeats}\")\n",
    "print(f\"Proportion of times LTT finds no valid threshold: {no_valid_params/n_repeats}\")\n",
    "print(f\"Proportion of times the risk is not controlled: {nb_errors/n_repeats}\")\n",
    "\n",
    "if nb_errors/n_repeats <= 1 - confidence_level:\n",
    "    print(\"Risk controlled\")\n",
    "else:\n",
    "    print(\"Risk not controlled\")"
   ]
  },
  {
   "cell_type": "code",
   "execution_count": null,
   "id": "104c7232-c8b1-432e-94dd-3f65e730483f",
   "metadata": {},
   "outputs": [],
   "source": []
  }
 ],
 "metadata": {
  "colab": {
   "provenance": []
  },
  "kernelspec": {
   "display_name": "Python 3 (ipykernel)",
   "language": "python",
   "name": "python3"
  },
  "language_info": {
   "codemirror_mode": {
    "name": "ipython",
    "version": 3
   },
   "file_extension": ".py",
   "mimetype": "text/x-python",
   "name": "python",
   "nbconvert_exporter": "python",
   "pygments_lexer": "ipython3",
   "version": "3.10.17"
  }
 },
 "nbformat": 4,
 "nbformat_minor": 5
}
