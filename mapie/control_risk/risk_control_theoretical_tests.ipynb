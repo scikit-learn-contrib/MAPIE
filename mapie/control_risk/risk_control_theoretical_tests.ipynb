{
 "cells": [
  {
   "cell_type": "markdown",
   "id": "2ae91ff6-9706-41f1-bfdb-c39f5f2bfb9d",
   "metadata": {
    "id": "2ae91ff6-9706-41f1-bfdb-c39f5f2bfb9d"
   },
   "source": [
    "# Binary classification risk control - Theoretical tests"
   ]
  },
  {
   "cell_type": "code",
   "execution_count": 1,
   "id": "IL8IjNn4orNR",
   "metadata": {
    "colab": {
     "base_uri": "https://localhost:8080/"
    },
    "id": "IL8IjNn4orNR",
    "outputId": "142dc9f9-9e06-47cb-af4f-340f69d10c11"
   },
   "outputs": [
    {
     "name": "stdout",
     "output_type": "stream",
     "text": [
      "Collecting git+https://github.com/scikit-learn-contrib/MAPIE.git@binary-risk-control-draft\n",
      "  Cloning https://github.com/scikit-learn-contrib/MAPIE.git (to revision binary-risk-control-draft) to /private/var/folders/nc/93hz0xq55t12zz9wptbk13z80000gn/T/pip-req-build-gmdkxrto\n",
      "  Running command git clone --filter=blob:none --quiet https://github.com/scikit-learn-contrib/MAPIE.git /private/var/folders/nc/93hz0xq55t12zz9wptbk13z80000gn/T/pip-req-build-gmdkxrto\n",
      "  Running command git checkout -b binary-risk-control-draft --track origin/binary-risk-control-draft\n",
      "  Switched to a new branch 'binary-risk-control-draft'\n",
      "  branch 'binary-risk-control-draft' set up to track 'origin/binary-risk-control-draft'.\n",
      "  Resolved https://github.com/scikit-learn-contrib/MAPIE.git to commit 85093ecc84e4e4b0d192a864d534e38260fbcae1\n",
      "  Installing build dependencies ... \u001b[?25ldone\n",
      "\u001b[?25h  Getting requirements to build wheel ... \u001b[?25ldone\n",
      "\u001b[?25h  Preparing metadata (pyproject.toml) ... \u001b[?25ldone\n",
      "\u001b[?25hRequirement already satisfied: scikit-learn>=1.4 in /Users/faustinpulveric/.pyenv/versions/3.13.3/envs/mapie_3.13/lib/python3.13/site-packages (from MAPIE==1.0.1) (1.7.1)\n",
      "Requirement already satisfied: scipy in /Users/faustinpulveric/.pyenv/versions/3.13.3/envs/mapie_3.13/lib/python3.13/site-packages (from MAPIE==1.0.1) (1.16.0)\n",
      "Requirement already satisfied: numpy>=1.23 in /Users/faustinpulveric/.pyenv/versions/3.13.3/envs/mapie_3.13/lib/python3.13/site-packages (from MAPIE==1.0.1) (2.3.1)\n",
      "Requirement already satisfied: joblib>=1.2.0 in /Users/faustinpulveric/.pyenv/versions/3.13.3/envs/mapie_3.13/lib/python3.13/site-packages (from scikit-learn>=1.4->MAPIE==1.0.1) (1.5.1)\n",
      "Requirement already satisfied: threadpoolctl>=3.1.0 in /Users/faustinpulveric/.pyenv/versions/3.13.3/envs/mapie_3.13/lib/python3.13/site-packages (from scikit-learn>=1.4->MAPIE==1.0.1) (3.6.0)\n",
      "\n",
      "\u001b[1m[\u001b[0m\u001b[34;49mnotice\u001b[0m\u001b[1;39;49m]\u001b[0m\u001b[39;49m A new release of pip is available: \u001b[0m\u001b[31;49m25.0.1\u001b[0m\u001b[39;49m -> \u001b[0m\u001b[32;49m25.1.1\u001b[0m\n",
      "\u001b[1m[\u001b[0m\u001b[34;49mnotice\u001b[0m\u001b[1;39;49m]\u001b[0m\u001b[39;49m To update, run: \u001b[0m\u001b[32;49mpython -m pip install --upgrade pip\u001b[0m\n"
     ]
    }
   ],
   "source": [
    "!pip install git+https://github.com/scikit-learn-contrib/MAPIE.git@binary-risk-control-draft --ignore-requires-python"
   ]
  },
  {
   "cell_type": "code",
   "execution_count": 2,
   "id": "f1c2e64a",
   "metadata": {
    "id": "f1c2e64a"
   },
   "outputs": [],
   "source": [
    "import numpy as np\n",
    "import itertools\n",
    "\n",
    "from mapie.risk_control_draft import BinaryClassificationController"
   ]
  },
  {
   "cell_type": "code",
   "execution_count": 3,
   "id": "1fef2dc6-b5b1-43bc-ad05-e5e1fe7844bd",
   "metadata": {
    "id": "1fef2dc6-b5b1-43bc-ad05-e5e1fe7844bd"
   },
   "outputs": [],
   "source": [
    "class RandomClassifier:\n",
    "    def __init__(self, seed=42, threshold=0.5):\n",
    "        self.random_state = np.random.RandomState(seed)\n",
    "        self.threshold = threshold\n",
    "\n",
    "    def predict_proba(self, X):\n",
    "        probs = np.round(self.random_state.rand(len(X)), 2)\n",
    "        return np.vstack([1 - probs, probs]).T\n",
    "\n",
    "    def predict(self, X):\n",
    "        probs = self.predict_proba(X)[:, 1]\n",
    "        return (probs >= self.threshold).astype(int)"
   ]
  },
  {
   "cell_type": "code",
   "execution_count": 4,
   "id": "8da2839a-3f14-4054-acf1-c60b1d02b7d0",
   "metadata": {
    "id": "8da2839a-3f14-4054-acf1-c60b1d02b7d0"
   },
   "outputs": [],
   "source": [
    "N = 100  # size of the calibration set\n",
    "p = 0.8  # proportion of positives in the calibration set\n",
    "metric = \"precision\"\n",
    "target_level = 0.6\n",
    "predict_params = np.linspace(0, 0.99, 100)\n",
    "confidence_level = 0.9\n",
    "\n",
    "n_repeats = 100"
   ]
  },
  {
   "cell_type": "code",
   "execution_count": 5,
   "id": "b415f516-7782-4d76-b304-3d630af365fc",
   "metadata": {
    "colab": {
     "base_uri": "https://localhost:8080/"
    },
    "id": "b415f516-7782-4d76-b304-3d630af365fc",
    "outputId": "3ff7579e-f564-49fb-9e95-ef78fa4239d0"
   },
   "outputs": [
    {
     "name": "stdout",
     "output_type": "stream",
     "text": [
      "N = 100\n",
      "Metric = precision\n",
      "Target level = 0.6\n",
      "Predict params = [0.   0.01 0.02 0.03 0.04 0.05 0.06 0.07 0.08 0.09 0.1  0.11 0.12 0.13\n",
      " 0.14 0.15 0.16 0.17 0.18 0.19 0.2  0.21 0.22 0.23 0.24 0.25 0.26 0.27\n",
      " 0.28 0.29 0.3  0.31 0.32 0.33 0.34 0.35 0.36 0.37 0.38 0.39 0.4  0.41\n",
      " 0.42 0.43 0.44 0.45 0.46 0.47 0.48 0.49 0.5  0.51 0.52 0.53 0.54 0.55\n",
      " 0.56 0.57 0.58 0.59 0.6  0.61 0.62 0.63 0.64 0.65 0.66 0.67 0.68 0.69\n",
      " 0.7  0.71 0.72 0.73 0.74 0.75 0.76 0.77 0.78 0.79 0.8  0.81 0.82 0.83\n",
      " 0.84 0.85 0.86 0.87 0.88 0.89 0.9  0.91 0.92 0.93 0.94 0.95 0.96 0.97\n",
      " 0.98 0.99]\n",
      "Confidence Level = 0.9\n"
     ]
    }
   ],
   "source": [
    "print(f\"N = {N}\")\n",
    "print(f\"Metric = {metric}\")\n",
    "print(f\"Target level = {target_level}\")\n",
    "print(f\"Predict params = {predict_params}\")\n",
    "print(f\"Confidence Level = {confidence_level}\")"
   ]
  },
  {
   "cell_type": "code",
   "execution_count": 6,
   "id": "649f5ef0-3c5e-410a-949e-e7aa3142d5fc",
   "metadata": {
    "id": "649f5ef0-3c5e-410a-949e-e7aa3142d5fc"
   },
   "outputs": [],
   "source": [
    "X_calibrate = list(range(1, N+1))\n",
    "y_calibrate = [1] * int(p*N) + [0] * (N - int(p*N))\n",
    "np.random.seed(42)\n",
    "np.random.shuffle(y_calibrate)"
   ]
  },
  {
   "cell_type": "code",
   "execution_count": 7,
   "id": "03383363-b86d-4593-adf4-80215b6f1dcf",
   "metadata": {
    "colab": {
     "base_uri": "https://localhost:8080/",
     "height": 376
    },
    "id": "03383363-b86d-4593-adf4-80215b6f1dcf",
    "outputId": "b15146cf-518e-4a93-8128-6c1865a08b01"
   },
   "outputs": [
    {
     "name": "stdout",
     "output_type": "stream",
     "text": [
      "Risk controlled\n"
     ]
    }
   ],
   "source": [
    "clf = RandomClassifier()\n",
    "\n",
    "if metric == \"precision\":\n",
    "    theoretical_value = p\n",
    "elif metric == \"recall\":\n",
    "    theoretical_value = 1 - clf.threshold\n",
    "\n",
    "all_valid_parameters = []\n",
    "\n",
    "for _ in range(n_repeats):\n",
    "\n",
    "    controller = BinaryClassificationController(\n",
    "        fitted_binary_classifier=clf,\n",
    "        metric=\"precision\",\n",
    "        target_level=target_level,\n",
    "        confidence_level=confidence_level,\n",
    "    )\n",
    "    controller.calibrate(X_calibrate, y_calibrate)\n",
    "\n",
    "    valid_parameters = controller.valid_thresholds\n",
    "    all_valid_parameters.append(valid_parameters)\n",
    "\n",
    "if metric == \"precision\":\n",
    "    nb_actual_valid = sum(1 for x in all_valid_parameters if p >= theoretical_value)\n",
    "elif metric == \"recall\":\n",
    "    nb_actual_valid = sum(1 for x in all_valid_parameters if x <= (1 - theoretical_value))\n",
    "\n",
    "if nb_actual_valid/len(all_valid_parameters) >= confidence_level:\n",
    "    print(\"Risk controlled\")\n",
    "else:\n",
    "    print(\"Risk not controlled\")"
   ]
  },
  {
   "cell_type": "code",
   "execution_count": null,
   "id": "42f85519-17ae-46c7-bfdc-e26c1d87017a",
   "metadata": {
    "id": "42f85519-17ae-46c7-bfdc-e26c1d87017a"
   },
   "outputs": [],
   "source": []
  }
 ],
 "metadata": {
  "colab": {
   "provenance": []
  },
  "kernelspec": {
   "display_name": "Python 3 (ipykernel)",
   "language": "python",
   "name": "python3"
  },
  "language_info": {
   "codemirror_mode": {
    "name": "ipython",
    "version": 3
   },
   "file_extension": ".py",
   "mimetype": "text/x-python",
   "name": "python",
   "nbconvert_exporter": "python",
   "pygments_lexer": "ipython3",
   "version": "3.13.5"
  }
 },
 "nbformat": 4,
 "nbformat_minor": 5
}
