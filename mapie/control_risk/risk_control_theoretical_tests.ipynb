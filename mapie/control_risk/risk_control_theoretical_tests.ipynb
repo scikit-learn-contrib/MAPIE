{
 "cells": [
  {
   "cell_type": "markdown",
   "id": "2ae91ff6-9706-41f1-bfdb-c39f5f2bfb9d",
   "metadata": {},
   "source": [
    "# Binary classification risk control - Theoretical tests"
   ]
  },
  {
   "cell_type": "code",
   "execution_count": 1,
   "id": "a32336ed-517d-405a-90b0-b6c014ac59ec",
   "metadata": {},
   "outputs": [
    {
     "name": "stdout",
     "output_type": "stream",
     "text": [
      "Collecting git+https://github.com/scikit-learn-contrib/MAPIE.git@binary-risk-control-draft\n",
      "  Cloning https://github.com/scikit-learn-contrib/MAPIE.git (to revision binary-risk-control-draft) to /private/var/folders/nc/93hz0xq55t12zz9wptbk13z80000gn/T/pip-req-build-d7ph_uiv\n",
      "  Running command git clone --filter=blob:none --quiet https://github.com/scikit-learn-contrib/MAPIE.git /private/var/folders/nc/93hz0xq55t12zz9wptbk13z80000gn/T/pip-req-build-d7ph_uiv\n",
      "  Running command git checkout -b binary-risk-control-draft --track origin/binary-risk-control-draft\n",
      "  Switched to a new branch 'binary-risk-control-draft'\n",
      "  branch 'binary-risk-control-draft' set up to track 'origin/binary-risk-control-draft'.\n",
      "  Resolved https://github.com/scikit-learn-contrib/MAPIE.git to commit ccf9e57a0ee8162a07a5ed854b5d410a869dee5a\n",
      "  Installing build dependencies ... \u001b[?25ldone\n",
      "\u001b[?25h  Getting requirements to build wheel ... \u001b[?25ldone\n",
      "\u001b[?25h  Preparing metadata (pyproject.toml) ... \u001b[?25ldone\n",
      "\u001b[?25hRequirement already satisfied: scikit-learn>=1.4 in /opt/homebrew/Cellar/jupyterlab/4.4.4/libexec/lib/python3.13/site-packages (from MAPIE==1.0.1) (1.7.0)\n",
      "Requirement already satisfied: scipy in /opt/homebrew/Cellar/jupyterlab/4.4.4/libexec/lib/python3.13/site-packages (from MAPIE==1.0.1) (1.16.0)\n",
      "Requirement already satisfied: numpy>=1.23 in /opt/homebrew/Cellar/jupyterlab/4.4.4/libexec/lib/python3.13/site-packages (from MAPIE==1.0.1) (2.3.1)\n",
      "Requirement already satisfied: joblib>=1.2.0 in /opt/homebrew/Cellar/jupyterlab/4.4.4/libexec/lib/python3.13/site-packages (from scikit-learn>=1.4->MAPIE==1.0.1) (1.5.1)\n",
      "Requirement already satisfied: threadpoolctl>=3.1.0 in /opt/homebrew/Cellar/jupyterlab/4.4.4/libexec/lib/python3.13/site-packages (from scikit-learn>=1.4->MAPIE==1.0.1) (3.6.0)\n",
      "Note: you may need to restart the kernel to use updated packages.\n"
     ]
    }
   ],
   "source": [
    "pip install git+https://github.com/scikit-learn-contrib/MAPIE.git@binary-risk-control-draft --ignore-requires-python"
   ]
  },
  {
   "cell_type": "code",
   "execution_count": 2,
   "id": "f1c2e64a",
   "metadata": {},
   "outputs": [],
   "source": [
    "import numpy as np\n",
    "import itertools\n",
    "\n",
    "from mapie.risk_control_draft import BinaryClassificationController"
   ]
  },
  {
   "cell_type": "code",
   "execution_count": 3,
   "id": "1fef2dc6-b5b1-43bc-ad05-e5e1fe7844bd",
   "metadata": {},
   "outputs": [],
   "source": [
    "class RandomClassifier:\n",
    "    def __init__(self, seed=42, threshold=0.5):\n",
    "        self.random_state = np.random.RandomState(seed)\n",
    "        self.threshold = threshold\n",
    "\n",
    "    def predict_proba(self, X):\n",
    "        probs = np.round(self.random_state.rand(len(X)), 2)\n",
    "        return np.vstack([1 - probs, probs]).T\n",
    "\n",
    "    def predict(self, X):\n",
    "        probs = self.predict_proba(X)[:, 1]\n",
    "        return (probs >= self.threshold).astype(int)"
   ]
  },
  {
   "cell_type": "code",
   "execution_count": 4,
   "id": "8da2839a-3f14-4054-acf1-c60b1d02b7d0",
   "metadata": {},
   "outputs": [],
   "source": [
    "N = 100  # size of the calibration set\n",
    "p = 0.5  # proportion of positives in the calibration set\n",
    "metric = \"precision\"\n",
    "target_level = 0.8\n",
    "predict_params = np.linspace(0, 0.99, 100)\n",
    "confidence_level = 0.9\n",
    "\n",
    "n_repeats = 100"
   ]
  },
  {
   "cell_type": "code",
   "execution_count": 5,
   "id": "b415f516-7782-4d76-b304-3d630af365fc",
   "metadata": {},
   "outputs": [
    {
     "name": "stdout",
     "output_type": "stream",
     "text": [
      "N = 100\n",
      "Metric = precision\n",
      "Target level = 0.8\n",
      "Predict params = [0.   0.01 0.02 0.03 0.04 0.05 0.06 0.07 0.08 0.09 0.1  0.11 0.12 0.13\n",
      " 0.14 0.15 0.16 0.17 0.18 0.19 0.2  0.21 0.22 0.23 0.24 0.25 0.26 0.27\n",
      " 0.28 0.29 0.3  0.31 0.32 0.33 0.34 0.35 0.36 0.37 0.38 0.39 0.4  0.41\n",
      " 0.42 0.43 0.44 0.45 0.46 0.47 0.48 0.49 0.5  0.51 0.52 0.53 0.54 0.55\n",
      " 0.56 0.57 0.58 0.59 0.6  0.61 0.62 0.63 0.64 0.65 0.66 0.67 0.68 0.69\n",
      " 0.7  0.71 0.72 0.73 0.74 0.75 0.76 0.77 0.78 0.79 0.8  0.81 0.82 0.83\n",
      " 0.84 0.85 0.86 0.87 0.88 0.89 0.9  0.91 0.92 0.93 0.94 0.95 0.96 0.97\n",
      " 0.98 0.99]\n",
      "Confidence Level = 0.9\n"
     ]
    }
   ],
   "source": [
    "print(f\"N = {N}\")\n",
    "print(f\"Metric = {metric}\")\n",
    "print(f\"Target level = {target_level}\")\n",
    "print(f\"Predict params = {predict_params}\")\n",
    "print(f\"Confidence Level = {confidence_level}\")"
   ]
  },
  {
   "cell_type": "code",
   "execution_count": 6,
   "id": "649f5ef0-3c5e-410a-949e-e7aa3142d5fc",
   "metadata": {},
   "outputs": [],
   "source": [
    "X_calibrate = list(range(1, N+1))\n",
    "y_calibrate = [1] * int(p*N) + [0] * (N - int(p*N))\n",
    "np.random.seed(42)\n",
    "np.random.shuffle(y_calibrate)"
   ]
  },
  {
   "cell_type": "code",
   "execution_count": 7,
   "id": "03383363-b86d-4593-adf4-80215b6f1dcf",
   "metadata": {},
   "outputs": [
    {
     "ename": "ValueError",
     "evalue": "No valid thresholds found",
     "output_type": "error",
     "traceback": [
      "\u001b[31m---------------------------------------------------------------------------\u001b[39m",
      "\u001b[31mValueError\u001b[39m                                Traceback (most recent call last)",
      "\u001b[36mCell\u001b[39m\u001b[36m \u001b[39m\u001b[32mIn[7]\u001b[39m\u001b[32m, line 18\u001b[39m\n\u001b[32m     10\u001b[39m \u001b[38;5;28;01mfor\u001b[39;00m _ \u001b[38;5;129;01min\u001b[39;00m \u001b[38;5;28mrange\u001b[39m(n_repeats):\n\u001b[32m     12\u001b[39m     controller = BinaryClassificationController(\n\u001b[32m     13\u001b[39m         fitted_binary_classifier=clf,\n\u001b[32m     14\u001b[39m         metric=\u001b[33m\"\u001b[39m\u001b[33mprecision\u001b[39m\u001b[33m\"\u001b[39m,\n\u001b[32m     15\u001b[39m         target_level=target_level,\n\u001b[32m     16\u001b[39m         confidence_level=confidence_level,\n\u001b[32m     17\u001b[39m     )\n\u001b[32m---> \u001b[39m\u001b[32m18\u001b[39m     \u001b[43mcontroller\u001b[49m\u001b[43m.\u001b[49m\u001b[43mcalibrate\u001b[49m\u001b[43m(\u001b[49m\u001b[43mX_calibrate\u001b[49m\u001b[43m,\u001b[49m\u001b[43m \u001b[49m\u001b[43my_calibrate\u001b[49m\u001b[43m)\u001b[49m\n\u001b[32m     20\u001b[39m     valid_parameters = controller.valid_thresholds\n\u001b[32m     21\u001b[39m     all_valid_parameters.append(valid_parameters)\n",
      "\u001b[36mFile \u001b[39m\u001b[32m/opt/homebrew/Cellar/jupyterlab/4.4.4/libexec/lib/python3.13/site-packages/mapie/risk_control_draft.py:117\u001b[39m, in \u001b[36mBinaryClassificationController.calibrate\u001b[39m\u001b[34m(self, X_calibrate, y_calibrate)\u001b[39m\n\u001b[32m    114\u001b[39m \u001b[38;5;28mself\u001b[39m.valid_thresholds = \u001b[38;5;28mself\u001b[39m._thresholds[valid_thresholds_index[\u001b[32m0\u001b[39m]]\n\u001b[32m    115\u001b[39m \u001b[38;5;28;01mif\u001b[39;00m \u001b[38;5;28mlen\u001b[39m(\u001b[38;5;28mself\u001b[39m.valid_thresholds) == \u001b[32m0\u001b[39m:\n\u001b[32m    116\u001b[39m     \u001b[38;5;66;03m# TODO: just warn, and raise error at prediction if no valid thresholds\u001b[39;00m\n\u001b[32m--> \u001b[39m\u001b[32m117\u001b[39m     \u001b[38;5;28;01mraise\u001b[39;00m \u001b[38;5;167;01mValueError\u001b[39;00m(\u001b[33m\"\u001b[39m\u001b[33mNo valid thresholds found\u001b[39m\u001b[33m\"\u001b[39m)\n\u001b[32m    119\u001b[39m \u001b[38;5;66;03m# Minimum in case of precision control only\u001b[39;00m\n\u001b[32m    120\u001b[39m \u001b[38;5;28mself\u001b[39m.best_threshold = \u001b[38;5;28mmin\u001b[39m(\u001b[38;5;28mself\u001b[39m.valid_thresholds)\n",
      "\u001b[31mValueError\u001b[39m: No valid thresholds found"
     ]
    }
   ],
   "source": [
    "clf = RandomClassifier()\n",
    "\n",
    "if metric == \"precision\":\n",
    "    theoretical_value = p\n",
    "elif metric == \"recall\":\n",
    "    theoretical_value = 1 - clf.threshold\n",
    "\n",
    "all_valid_parameters = []\n",
    "\n",
    "for _ in range(n_repeats):\n",
    "    \n",
    "    controller = BinaryClassificationController(\n",
    "        fitted_binary_classifier=clf,\n",
    "        metric=\"precision\",\n",
    "        target_level=target_level,\n",
    "        confidence_level=confidence_level,\n",
    "    )\n",
    "    controller.calibrate(X_calibrate, y_calibrate)\n",
    "    \n",
    "    valid_parameters = controller.valid_thresholds\n",
    "    all_valid_parameters.append(valid_parameters)\n",
    "\n",
    "if metric == \"precision\":\n",
    "    nb_actual_valid = sum(1 for x in all_valid_parameters if p >= theoretical_value)\n",
    "elif metric == \"recall\":\n",
    "    nb_actual_valid = sum(1 for x in all_valid_parameters if x <= (1 - theoretical_value))\n",
    "\n",
    "if nb_actual_valid/len(all_valid_parameters) >= confidence_level:\n",
    "    print(\"Risk controlled\")\n",
    "else:\n",
    "    print(\"Risk not controlled\")"
   ]
  },
  {
   "cell_type": "code",
   "execution_count": null,
   "id": "42f85519-17ae-46c7-bfdc-e26c1d87017a",
   "metadata": {},
   "outputs": [],
   "source": []
  }
 ],
 "metadata": {
  "kernelspec": {
   "display_name": "Python 3 (ipykernel)",
   "language": "python",
   "name": "python3"
  },
  "language_info": {
   "codemirror_mode": {
    "name": "ipython",
    "version": 3
   },
   "file_extension": ".py",
   "mimetype": "text/x-python",
   "name": "python",
   "nbconvert_exporter": "python",
   "pygments_lexer": "ipython3",
   "version": "3.13.5"
  }
 },
 "nbformat": 4,
 "nbformat_minor": 5
}
