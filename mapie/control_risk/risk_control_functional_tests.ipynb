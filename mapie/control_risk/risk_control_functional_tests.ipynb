{
 "cells": [
  {
   "cell_type": "markdown",
   "id": "2ae91ff6-9706-41f1-bfdb-c39f5f2bfb9d",
   "metadata": {},
   "source": [
    "# Binary classification risk control - Functional tests"
   ]
  },
  {
   "cell_type": "code",
   "execution_count": 7,
   "id": "f1c2e64a",
   "metadata": {},
   "outputs": [],
   "source": [
    "import numpy as np\n",
    "import itertools"
   ]
  },
  {
   "cell_type": "code",
   "execution_count": 8,
   "id": "8da2839a-3f14-4054-acf1-c60b1d02b7d0",
   "metadata": {},
   "outputs": [],
   "source": [
    "N_values = [1, 100]  # size of the calibration set\n",
    "risks = ['recall', 'precision']\n",
    "alpha_values = [0.2, 0.8]\n",
    "parameters_sets = [np.linspace(0, 0.99, 100), [0.5]]\n",
    "confidence_levels = [0.1, 0.9]\n",
    "n_repeats = 100"
   ]
  },
  {
   "cell_type": "code",
   "execution_count": 10,
   "id": "1fef2dc6-b5b1-43bc-ad05-e5e1fe7844bd",
   "metadata": {},
   "outputs": [],
   "source": [
    "class RandomClassifier:\n",
    "    def __init__(self, seed=42):\n",
    "        self.random_state = np.random.RandomState(seed)\n",
    "\n",
    "    def predict_proba(self, X):\n",
    "        probs = np.round(self.random_state.rand(len(X)), 2)\n",
    "        return np.vstack([1 - probs, probs]).T\n",
    "\n",
    "    def predict(self, X, threshold=0.5):\n",
    "        probs = self.predict_proba(X)[:, 1]\n",
    "        return (probs >= threshold).astype(int)"
   ]
  },
  {
   "cell_type": "code",
   "execution_count": 22,
   "id": "b415f516-7782-4d76-b304-3d630af365fc",
   "metadata": {},
   "outputs": [
    {
     "name": "stdout",
     "output_type": "stream",
     "text": [
      "Combination 1:\n",
      "N = 1\n",
      "Risk = recall\n",
      "Alpha = 0.2\n",
      "Parameter = [0.   0.01 0.02 0.03 0.04 0.05 0.06 0.07 0.08 0.09 0.1  0.11 0.12 0.13\n",
      " 0.14 0.15 0.16 0.17 0.18 0.19 0.2  0.21 0.22 0.23 0.24 0.25 0.26 0.27\n",
      " 0.28 0.29 0.3  0.31 0.32 0.33 0.34 0.35 0.36 0.37 0.38 0.39 0.4  0.41\n",
      " 0.42 0.43 0.44 0.45 0.46 0.47 0.48 0.49 0.5  0.51 0.52 0.53 0.54 0.55\n",
      " 0.56 0.57 0.58 0.59 0.6  0.61 0.62 0.63 0.64 0.65 0.66 0.67 0.68 0.69\n",
      " 0.7  0.71 0.72 0.73 0.74 0.75 0.76 0.77 0.78 0.79 0.8  0.81 0.82 0.83\n",
      " 0.84 0.85 0.86 0.87 0.88 0.89 0.9  0.91 0.92 0.93 0.94 0.95 0.96 0.97\n",
      " 0.98 0.99]\n",
      "Confidence Level = 0.1\n"
     ]
    }
   ],
   "source": [
    "combinations = list(itertools.product(N_values, risks, alpha_values, parameters_sets, confidence_levels))\n",
    "\n",
    "# for i, combination in enumerate(combinations[0], 1):\n",
    "combination = combinations[0]\n",
    "\n",
    "N, risk, alpha, parameter, confidence_level = combination\n",
    "print(f\"Combination {i}:\")\n",
    "print(f\"N = {N}\")\n",
    "print(f\"Risk = {risk}\")\n",
    "print(f\"Alpha = {alpha}\")\n",
    "print(f\"Parameter = {parameter}\")\n",
    "print(f\"Confidence Level = {confidence_level}\")"
   ]
  },
  {
   "cell_type": "code",
   "execution_count": 23,
   "id": "649f5ef0-3c5e-410a-949e-e7aa3142d5fc",
   "metadata": {},
   "outputs": [],
   "source": [
    "X_calibrate = np.random.randint(0, 100, size=N)\n",
    "y_calibrate = np.random.randint(0, 2, size=N)"
   ]
  },
  {
   "cell_type": "code",
   "execution_count": null,
   "id": "03383363-b86d-4593-adf4-80215b6f1dcf",
   "metadata": {},
   "outputs": [],
   "source": [
    "for _ in range()\n",
    "controller = BinaryClassificationController(\n",
    "    fitted_binary_classifier=RandomClassifier,\n",
    "    metric=risk,\n",
    "    target_level=alpha,\n",
    "    confidence_level=confidence_level,\n",
    ")\n",
    "controller.calibrate(X_calibrate, y_calibrate)"
   ]
  },
  {
   "cell_type": "code",
   "execution_count": null,
   "id": "42f85519-17ae-46c7-bfdc-e26c1d87017a",
   "metadata": {},
   "outputs": [],
   "source": []
  }
 ],
 "metadata": {
  "kernelspec": {
   "display_name": "Python 3 (ipykernel)",
   "language": "python",
   "name": "python3"
  },
  "language_info": {
   "codemirror_mode": {
    "name": "ipython",
    "version": 3
   },
   "file_extension": ".py",
   "mimetype": "text/x-python",
   "name": "python",
   "nbconvert_exporter": "python",
   "pygments_lexer": "ipython3",
   "version": "3.13.5"
  }
 },
 "nbformat": 4,
 "nbformat_minor": 5
}
