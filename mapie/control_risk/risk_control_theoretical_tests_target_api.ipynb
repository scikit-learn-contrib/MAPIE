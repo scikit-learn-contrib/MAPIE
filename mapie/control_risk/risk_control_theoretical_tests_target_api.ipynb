{
 "cells": [
  {
   "cell_type": "markdown",
   "id": "2ae91ff6-9706-41f1-bfdb-c39f5f2bfb9d",
   "metadata": {},
   "source": [
    "# Binary classification risk control - Theoretical tests - Target API"
   ]
  },
  {
   "cell_type": "code",
   "execution_count": 41,
   "id": "f1c2e64a",
   "metadata": {},
   "outputs": [
    {
     "ename": "ModuleNotFoundError",
     "evalue": "No module named 'mapie'",
     "output_type": "error",
     "traceback": [
      "\u001b[31m---------------------------------------------------------------------------\u001b[39m",
      "\u001b[31mModuleNotFoundError\u001b[39m                       Traceback (most recent call last)",
      "\u001b[36mCell\u001b[39m\u001b[36m \u001b[39m\u001b[32mIn[41]\u001b[39m\u001b[32m, line 4\u001b[39m\n\u001b[32m      1\u001b[39m \u001b[38;5;28;01mimport\u001b[39;00m\u001b[38;5;250m \u001b[39m\u001b[34;01mnumpy\u001b[39;00m\u001b[38;5;250m \u001b[39m\u001b[38;5;28;01mas\u001b[39;00m\u001b[38;5;250m \u001b[39m\u001b[34;01mnp\u001b[39;00m\n\u001b[32m      2\u001b[39m \u001b[38;5;28;01mimport\u001b[39;00m\u001b[38;5;250m \u001b[39m\u001b[34;01mitertools\u001b[39;00m\n\u001b[32m----> \u001b[39m\u001b[32m4\u001b[39m \u001b[38;5;28;01mfrom\u001b[39;00m\u001b[38;5;250m \u001b[39m\u001b[34;01mmapie\u001b[39;00m\u001b[34;01m.\u001b[39;00m\u001b[34;01mbinary_risk_control_target_api\u001b[39;00m\u001b[38;5;250m \u001b[39m\u001b[38;5;28;01mimport\u001b[39;00m BinaryClassificationRisk, BinaryClassificationController\n",
      "\u001b[31mModuleNotFoundError\u001b[39m: No module named 'mapie'"
     ]
    }
   ],
   "source": [
    "import numpy as np\n",
    "import itertools\n",
    "\n",
    "from mapie.binary_risk_control_target_api import BinaryClassificationRisk, BinaryClassificationController"
   ]
  },
  {
   "cell_type": "code",
   "execution_count": 42,
   "id": "1fef2dc6-b5b1-43bc-ad05-e5e1fe7844bd",
   "metadata": {},
   "outputs": [],
   "source": [
    "class RandomClassifier:\n",
    "    def __init__(self, seed=42, threshold=0.5):\n",
    "        self.random_state = np.random.RandomState(seed)\n",
    "        self.threshold = threshold\n",
    "\n",
    "    def predict_proba(self, X):\n",
    "        probs = np.round(self.random_state.rand(len(X)), 2)\n",
    "        return np.vstack([1 - probs, probs]).T\n",
    "\n",
    "    def predict(self, X):\n",
    "        probs = self.predict_proba(X)[:, 1]\n",
    "        return (probs >= self.threshold).astype(int)"
   ]
  },
  {
   "cell_type": "code",
   "execution_count": 43,
   "id": "837bbfd2-0e30-4b27-99e6-71a6ee5c21d7",
   "metadata": {},
   "outputs": [
    {
     "ename": "NameError",
     "evalue": "name 'BinaryClassificationRisk' is not defined",
     "output_type": "error",
     "traceback": [
      "\u001b[31m---------------------------------------------------------------------------\u001b[39m",
      "\u001b[31mNameError\u001b[39m                                 Traceback (most recent call last)",
      "\u001b[36mCell\u001b[39m\u001b[36m \u001b[39m\u001b[32mIn[43]\u001b[39m\u001b[32m, line 1\u001b[39m\n\u001b[32m----> \u001b[39m\u001b[32m1\u001b[39m precision = \u001b[43mBinaryClassificationRisk\u001b[49m(\n\u001b[32m      2\u001b[39m     occurrence=\u001b[38;5;28;01mlambda\u001b[39;00m y_true, y_pred: \u001b[38;5;28;01mNone\u001b[39;00m \u001b[38;5;28;01mif\u001b[39;00m y_pred == \u001b[32m0\u001b[39m \u001b[38;5;28;01melse\u001b[39;00m \u001b[38;5;28mint\u001b[39m(y_pred == y_true),\n\u001b[32m      3\u001b[39m     higher_is_better=\u001b[38;5;28;01mTrue\u001b[39;00m,\n\u001b[32m      4\u001b[39m     binary=\u001b[38;5;28;01mTrue\u001b[39;00m,\n\u001b[32m      5\u001b[39m )\n\u001b[32m      7\u001b[39m false_discovery_rate = precision.transform_to_opposite()\n\u001b[32m      9\u001b[39m recall = BinaryClassificationRisk(\n\u001b[32m     10\u001b[39m     occurrence=\u001b[38;5;28;01mlambda\u001b[39;00m y_true, y_pred: \u001b[38;5;28;01mNone\u001b[39;00m \u001b[38;5;28;01mif\u001b[39;00m y_true == \u001b[32m0\u001b[39m \u001b[38;5;28;01melse\u001b[39;00m \u001b[38;5;28mint\u001b[39m(y_pred == y_true),\n\u001b[32m     11\u001b[39m     higher_is_better=\u001b[38;5;28;01mTrue\u001b[39;00m,\n\u001b[32m     12\u001b[39m     binary=\u001b[38;5;28;01mTrue\u001b[39;00m,\n\u001b[32m     13\u001b[39m )\n",
      "\u001b[31mNameError\u001b[39m: name 'BinaryClassificationRisk' is not defined"
     ]
    }
   ],
   "source": [
    "precision = BinaryClassificationRisk(\n",
    "    occurrence=lambda y_true, y_pred: None if y_pred == 0 else int(y_pred == y_true),\n",
    "    higher_is_better=True,\n",
    "    binary=True,\n",
    ")\n",
    "\n",
    "false_discovery_rate = precision.transform_to_opposite()\n",
    "\n",
    "recall = BinaryClassificationRisk(\n",
    "    occurrence=lambda y_true, y_pred: None if y_true == 0 else int(y_pred == y_true),\n",
    "    higher_is_better=True,\n",
    "    binary=True,\n",
    ")\n",
    "\n",
    "false_negative_rate = recall.transform_to_opposite()\n",
    "\n",
    "accuracy = BinaryClassificationRisk(\n",
    "    occurrence=lambda y_true, y_pred: int(y_pred == y_true),\n",
    "    higher_is_better=True,\n",
    "    binary=True,\n",
    ")"
   ]
  },
  {
   "cell_type": "code",
   "execution_count": 44,
   "id": "8da2839a-3f14-4054-acf1-c60b1d02b7d0",
   "metadata": {},
   "outputs": [],
   "source": [
    "N_values = [1, 100]  # size of the calibration set\n",
    "p = 0.5  # proportion of positives in the calibration set\n",
    "metrics = ['recall', 'precision']\n",
    "target_levels = [0.2, 0.8]\n",
    "predict_params_sets = [np.linspace(0, 0.99, 100), [0.5]]\n",
    "confidence_levels = [0.1, 0.9]\n",
    "\n",
    "n_repeats = 100"
   ]
  },
  {
   "cell_type": "code",
   "execution_count": 45,
   "id": "b415f516-7782-4d76-b304-3d630af365fc",
   "metadata": {},
   "outputs": [
    {
     "name": "stdout",
     "output_type": "stream",
     "text": [
      "Combination 1:\n",
      "N = 1\n",
      "Metric = recall\n",
      "Target level = 0.2\n",
      "Predict params = [0.   0.01 0.02 0.03 0.04 0.05 0.06 0.07 0.08 0.09 0.1  0.11 0.12 0.13\n",
      " 0.14 0.15 0.16 0.17 0.18 0.19 0.2  0.21 0.22 0.23 0.24 0.25 0.26 0.27\n",
      " 0.28 0.29 0.3  0.31 0.32 0.33 0.34 0.35 0.36 0.37 0.38 0.39 0.4  0.41\n",
      " 0.42 0.43 0.44 0.45 0.46 0.47 0.48 0.49 0.5  0.51 0.52 0.53 0.54 0.55\n",
      " 0.56 0.57 0.58 0.59 0.6  0.61 0.62 0.63 0.64 0.65 0.66 0.67 0.68 0.69\n",
      " 0.7  0.71 0.72 0.73 0.74 0.75 0.76 0.77 0.78 0.79 0.8  0.81 0.82 0.83\n",
      " 0.84 0.85 0.86 0.87 0.88 0.89 0.9  0.91 0.92 0.93 0.94 0.95 0.96 0.97\n",
      " 0.98 0.99]\n",
      "Confidence Level = 0.1\n"
     ]
    }
   ],
   "source": [
    "combinations = list(itertools.product(N_values, metrics, target_levels, predict_params_sets, confidence_levels))\n",
    "\n",
    "# for i, combination in enumerate(combinations[0], 1):\n",
    "i, combination = 1, combinations[0]\n",
    "\n",
    "N, metric, target_level, predict_params, confidence_level = combination\n",
    "print(f\"Combination {i}:\")\n",
    "print(f\"N = {N}\")\n",
    "print(f\"Metric = {metric}\")\n",
    "print(f\"Target level = {target_level}\")\n",
    "print(f\"Predict params = {predict_params}\")\n",
    "print(f\"Confidence Level = {confidence_level}\")"
   ]
  },
  {
   "cell_type": "code",
   "execution_count": 46,
   "id": "649f5ef0-3c5e-410a-949e-e7aa3142d5fc",
   "metadata": {},
   "outputs": [],
   "source": [
    "X_calibrate = list(range(1, N+1))\n",
    "y_calibrate = [1] * int(p*N) + [0] * (N - int(p*N))\n",
    "np.random.seed(42)\n",
    "np.random.shuffle(y_calibrate)"
   ]
  },
  {
   "cell_type": "code",
   "execution_count": 47,
   "id": "03383363-b86d-4593-adf4-80215b6f1dcf",
   "metadata": {},
   "outputs": [
    {
     "ename": "NameError",
     "evalue": "name 'recall' is not defined",
     "output_type": "error",
     "traceback": [
      "\u001b[31m---------------------------------------------------------------------------\u001b[39m",
      "\u001b[31mNameError\u001b[39m                                 Traceback (most recent call last)",
      "\u001b[36mCell\u001b[39m\u001b[36m \u001b[39m\u001b[32mIn[47]\u001b[39m\u001b[32m, line 7\u001b[39m\n\u001b[32m      5\u001b[39m     theoretical_value = p\n\u001b[32m      6\u001b[39m \u001b[38;5;28;01melif\u001b[39;00m metric == \u001b[33m'\u001b[39m\u001b[33mrecall\u001b[39m\u001b[33m'\u001b[39m:\n\u001b[32m----> \u001b[39m\u001b[32m7\u001b[39m     risk = \u001b[43mrecall\u001b[49m\n\u001b[32m      8\u001b[39m     theoretical_value = \u001b[32m1\u001b[39m - clf.threshold\n\u001b[32m     10\u001b[39m all_valid_parameters = []\n",
      "\u001b[31mNameError\u001b[39m: name 'recall' is not defined"
     ]
    }
   ],
   "source": [
    "clf = RandomClassifier()\n",
    "\n",
    "if metric == 'precision':\n",
    "    risk = precision\n",
    "    theoretical_value = p\n",
    "elif metric == 'recall':\n",
    "    risk = recall\n",
    "    theoretical_value = 1 - clf.threshold\n",
    "\n",
    "all_valid_parameters = []\n",
    "\n",
    "for _ in range(n_repeats):\n",
    "    \n",
    "    controller = BinaryClassificationController(\n",
    "        predict_function=clf.predict_proba,\n",
    "        risk=risk,\n",
    "        target_level=target_level,\n",
    "        confidence_level=confidence_level,\n",
    "        best_predict_param_choice=\"auto\",\n",
    "    )\n",
    "    controller.calibrate(X_calibrate, y_calibrate)\n",
    "    \n",
    "    valid_parameters = controller.valid_thresholds\n",
    "    all_valid_parameters.append(valid_parameters)\n",
    "\n",
    "if metric == 'precision':\n",
    "    nb_actual_valid = sum(1 for x in all_valid_parameters if p >= theoretical_value)\n",
    "elif metric == 'recall':\n",
    "    nb_actual_valid = sum(1 for x in all_valid_parameters if x <= (1 - theoretical_value))\n",
    "\n",
    "if nb_actual_valid/len(all_valid_parameters) >= confidence_level:\n",
    "    print(\"Risk controlled\")\n",
    "else:\n",
    "    print(\"Risk not controlled\")"
   ]
  },
  {
   "cell_type": "code",
   "execution_count": null,
   "id": "42f85519-17ae-46c7-bfdc-e26c1d87017a",
   "metadata": {},
   "outputs": [],
   "source": []
  }
 ],
 "metadata": {
  "kernelspec": {
   "display_name": "Python 3 (ipykernel)",
   "language": "python",
   "name": "python3"
  },
  "language_info": {
   "codemirror_mode": {
    "name": "ipython",
    "version": 3
   },
   "file_extension": ".py",
   "mimetype": "text/x-python",
   "name": "python",
   "nbconvert_exporter": "python",
   "pygments_lexer": "ipython3",
   "version": "3.10.17"
  }
 },
 "nbformat": 4,
 "nbformat_minor": 5
}
